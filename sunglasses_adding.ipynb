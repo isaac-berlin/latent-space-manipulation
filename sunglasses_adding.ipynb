{
 "cells": [
  {
   "cell_type": "code",
   "execution_count": 1,
   "id": "6959efdb",
   "metadata": {},
   "outputs": [],
   "source": [
    "import torch\n",
    "from sklearn.svm import LinearSVC\n",
    "from sklearn.metrics import accuracy_score\n",
    "import numpy as np\n",
    "from models import *\n",
    "from dataset import MyCelebA"
   ]
  },
  {
   "cell_type": "code",
   "execution_count": 2,
   "id": "aa67004c",
   "metadata": {},
   "outputs": [
    {
     "data": {
      "text/plain": [
       "<All keys matched successfully>"
      ]
     },
     "execution_count": 2,
     "metadata": {},
     "output_type": "execute_result"
    }
   ],
   "source": [
    "path = \"logs/VanillaVAE/version_0/checkpoints/last.ckpt\"\n",
    "\n",
    "model = VanillaVAE(3, 512)\n",
    "file = torch.load(path)\n",
    "parsed_file = {k.replace('model.', ''): v for k, v in file['state_dict'].items()}\n",
    "model.load_state_dict(parsed_file)"
   ]
  },
  {
   "cell_type": "code",
   "execution_count": 3,
   "id": "7fb88499",
   "metadata": {},
   "outputs": [
    {
     "name": "stderr",
     "output_type": "stream",
     "text": [
      "<>:3: SyntaxWarning: invalid escape sequence '\\s'\n",
      "<>:3: SyntaxWarning: invalid escape sequence '\\s'\n",
      "C:\\Users\\Josh\\AppData\\Local\\Temp\\ipykernel_18028\\1413202656.py:3: SyntaxWarning: invalid escape sequence '\\s'\n",
      "  attrs = pd.read_csv('data/celeba/list_attr_celeba.txt', sep='\\s+', header=1, index_col=0)\n"
     ]
    },
    {
     "data": {
      "text/plain": [
       "'Eyeglasses'"
      ]
     },
     "execution_count": 3,
     "metadata": {},
     "output_type": "execute_result"
    }
   ],
   "source": [
    "import pandas as pd\n",
    "\n",
    "attrs = pd.read_csv('data/celeba/list_attr_celeba.txt', sep='\\s+', header=1, index_col=0)\n",
    "attrs.columns[15]"
   ]
  },
  {
   "cell_type": "code",
   "execution_count": null,
   "id": "a58ed5f4",
   "metadata": {},
   "outputs": [],
   "source": [
    "indices = pd.Series(attrs[attrs.Eyeglasses == 1][:2000].index)\n",
    "indices = list(indices.str.replace('.jpg', '').astype(int) - 1)\n",
    "not_sunglas_indices = pd.Series(attrs[attrs.Eyeglasses == -1][:2000].index)\n",
    "not_sunglas_indices = list(not_sunglas_indices.str.replace('.jpg', '').astype(int) - 1)"
   ]
  },
  {
   "cell_type": "code",
   "execution_count": 6,
   "id": "388b5545",
   "metadata": {},
   "outputs": [],
   "source": [
    "from torchvision import transforms\n",
    "tf = transforms.Compose([transforms.CenterCrop(148),\n",
    "                        transforms.Resize(64),\n",
    "                        transforms.ToTensor(),])\n",
    "\n",
    "sunglasses_idx = torch.tensor(attrs.columns[15] == attrs.columns, dtype = torch.int16)\n",
    "not_sunglasses_idx = torch.tensor(attrs.columns[15] != attrs.columns, dtype = torch.int16)\n",
    "celeba_images = MyCelebA(root='data', target_type='attr', transform=tf)"
   ]
  },
  {
   "cell_type": "code",
   "execution_count": 7,
   "id": "df280727",
   "metadata": {},
   "outputs": [],
   "source": [
    "sunglasses_celeba_images = torch.utils.data.Subset(celeba_images, indices)\n",
    "not_sunglasses_celeba_images = torch.utils.data.Subset(celeba_images, not_sunglas_indices)"
   ]
  },
  {
   "cell_type": "code",
   "execution_count": 12,
   "id": "f3e53d70",
   "metadata": {},
   "outputs": [
    {
     "name": "stdout",
     "output_type": "stream",
     "text": [
      "SVM Accuracy: 76.11%\n",
      "SVM Precision: 76.80%\n",
      "SVM Recall: 74.84%\n",
      "SVM F1 Score: 75.81%\n"
     ]
    }
   ],
   "source": [
    "# Load the datasets\n",
    "from torch.utils.data import DataLoader\n",
    "from sklearn.metrics import accuracy_score, precision_score, recall_score, f1_score\n",
    "\n",
    "model = model.to('cuda')  # Move to GPU if available\n",
    "model.eval()  # Set the model to evaluation mode\n",
    "\n",
    "sunglasses_loader = DataLoader(sunglasses_celeba_images, batch_size=100, pin_memory=True)\n",
    "not_sunglasses_loader = DataLoader(not_sunglasses_celeba_images, batch_size=100, pin_memory=True)\n",
    "\n",
    "# Prepare the data\n",
    "def extract_latent_features(loader, model):\n",
    "    features = []\n",
    "    for batch in loader:\n",
    "        images, _ = batch\n",
    "        images = images.to('cuda')  # Move to GPU if available\n",
    "        with torch.no_grad():\n",
    "            # Pass through encoder and reparameterization\n",
    "            mu, log_var = model.encode(images)\n",
    "            z = model.reparameterize(mu, log_var)\n",
    "        features.append(z.cpu().numpy())\n",
    "    return np.vstack(features)\n",
    "\n",
    "sunglasses_features = extract_latent_features(sunglasses_loader, model)\n",
    "not_sunglasses_features = extract_latent_features(not_sunglasses_loader, model)\n",
    "\n",
    "# Combine features and labels\n",
    "X = np.vstack([sunglasses_features, not_sunglasses_features])\n",
    "y = np.hstack([np.ones(len(sunglasses_features)), np.zeros(len(not_sunglasses_features))])\n",
    "\n",
    "# Train the SVM\n",
    "svm = LinearSVC()\n",
    "svm.fit(X, y)\n",
    "\n",
    "# Evaluate the SVM\n",
    "y_pred = svm.predict(X)\n",
    "accuracy = accuracy_score(y, y_pred)\n",
    "precision = precision_score(y, y_pred)\n",
    "recall = recall_score(y, y_pred)\n",
    "f1 = f1_score(y, y_pred)\n",
    "\n",
    "print(f'SVM Accuracy: {accuracy * 100:.2f}%')\n",
    "print(f'SVM Precision: {precision * 100:.2f}%')\n",
    "print(f'SVM Recall: {recall * 100:.2f}%')\n",
    "print(f'SVM F1 Score: {f1 * 100:.2f}%')\n",
    "\n",
    "\n",
    "\n"
   ]
  },
  {
   "cell_type": "code",
   "execution_count": 9,
   "id": "7bbef62c",
   "metadata": {},
   "outputs": [],
   "source": [
    "from IPython import display\n",
    "from PIL import Image\n",
    "\n",
    "# display(None)\n",
    "\n",
    "im = celeba_images[0][0].numpy()\n",
    "\n",
    "Image.fromarray(im[0]*255).show()\n",
    "\n",
    "input = torch.tensor(im[np.newaxis, :, :])\n",
    "latent = model.encode(input.to('cuda'))\n",
    "\n",
    "latent = model.reparameterize(latent[0], latent[1]).cpu().detach().numpy()\n",
    "latent += svm.coef_ * 8\n",
    "\n",
    "final_image = model.decode(torch.tensor(latent).to('cuda')).cpu().detach().numpy()\n",
    "Image.fromarray(final_image[0,0] * 255).show()\n",
    "# sunglasses_im = im + svm.coef_[0][0] * 0.1\n",
    "# Image.fromarray(sunglasses_im*255).show()\n"
   ]
  },
  {
   "cell_type": "code",
   "execution_count": 11,
   "id": "d5c77a35",
   "metadata": {},
   "outputs": [],
   "source": [
    "from torchvision import utils as vutils\n",
    "\n",
    "test_input, test_label = next(iter(not_sunglasses_loader))\n",
    "\n",
    "model.eval()\n",
    "vutils.save_image(test_input.data,\n",
    "                    \"originals.png\",\n",
    "                    normalize=True,\n",
    "                    nrow=10)\n",
    "#         test_input, test_label = batch\n",
    "latent = model.encode(test_input.to(\"cuda\"))\n",
    "latent = model.reparameterize(latent[0], latent[1]).detach().cpu().numpy()\n",
    "\n",
    "latent = (latent + svm.coef_ *(7 - latent @ svm.coef_.T / np.linalg.norm(svm.coef_.T))).astype(np.float32)\n",
    "recons = model.decode(torch.tensor(latent).to(\"cuda\")).cpu().detach()\n",
    "\n",
    "vutils.save_image(recons.data,\n",
    "                    \"sunglasses.png\",\n",
    "                    normalize=True,\n",
    "                    nrow=10)"
   ]
  }
 ],
 "metadata": {
  "kernelspec": {
   "display_name": "Python 3",
   "language": "python",
   "name": "python3"
  },
  "language_info": {
   "codemirror_mode": {
    "name": "ipython",
    "version": 3
   },
   "file_extension": ".py",
   "mimetype": "text/x-python",
   "name": "python",
   "nbconvert_exporter": "python",
   "pygments_lexer": "ipython3",
   "version": "3.13.2"
  }
 },
 "nbformat": 4,
 "nbformat_minor": 5
}
